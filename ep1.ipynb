{
 "cells": [
  {
   "cell_type": "markdown",
   "metadata": {},
   "source": [
    "Episode 1: To reinforcement learn or not to reinforcement learn...\n",
    "\n",
    "By Hans Martin Aannestad"
   ]
  },
  {
   "cell_type": "markdown",
   "metadata": {},
   "source": [
    "Level 1: Reinforcement learning all the way down\n",
    "In the cases under,a\n",
    "\n",
    "* Suggest a reward signal or model that can lead to the desired outcome.\n",
    "\n",
    "\n",
    "\n",
    "\n",
    "* What information/which components should the (agent) \n",
    "state, at the minimum, consist of for the\n",
    "task to be reasonably solvable (sensory inputs, information about the past/future, etc.)?\n",
    "\n",
    "* Do you think it would be helpful/meaningful to the RL task to make a model of the environment?\n",
    "(In other words: Can such a model be made? Do you believe it to be good enough to be\n",
    "useful/worth the effort?)"
   ]
  },
  {
   "cell_type": "markdown",
   "metadata": {},
   "source": []
  },
  {
   "cell_type": "markdown",
   "metadata": {},
   "source": [
    "Level 1 continued...\n",
    "Now it’s your turn:\n",
    "\n",
    "* 1 Hubert would like to walk from point A to point B, also as quickly as possible.\n",
    "\n",
    "* 2 ... across a big road.\n",
    "\n",
    "* 3 While walking, Hubert shouldn’t forget about his charge! He may be in a hurry, but if the charge\n",
    "runs out, and he is not at one of the charging stations scattered around town, he will go into\n",
    "hibernation mode. And then he of course gets nowhere!\n",
    "\n",
    "* 4 When he arrives at the construction site of Fedriksen’s new factory, he’s asked to keep the area clean\n",
    "and move the construction waste to a designated container. Despite Hubert’s limited carrying\n",
    "capacity, CEO Fedriksen threatens him to join the waste in the container if he doesn’t keep the\n",
    "waste density below some ridiculous limit. And to make matters worse, the workers throw new waste\n",
    "on the ground all the time! (All workers are not equally bad, though...)"
   ]
  },
  {
   "cell_type": "markdown",
   "metadata": {},
   "source": [
    "Level 2: Here, or somewhere else?\n",
    "\n",
    "How should Hubert deal with this problem? Suggest/sketch a strategy that will work in this ever\n",
    "changing urban setting. Are there features of the environment, its dynamics, the task at hand, or other\n",
    "information that could be utilized?\n",
    "\n"
   ]
  },
  {
   "cell_type": "markdown",
   "metadata": {},
   "source": [
    "Level 3: My computer is bigger than yours; I don’t need reinforcement learning!\n",
    "\n",
    "In n timesteps, how many possible sequences of actions can Hubert make?\n",
    "\n",
    "Implement a routine that simulates Hubert’s task. As an input, it should take a sequence of possible\n",
    "actions of length n, and as an output it should give the total waste collected in the container, w.\n",
    "For n = 6 and n = 12, compute w for all possible sequences, and do/answer the following:\n",
    "I Plot the distribution of w’s (normalized).\n",
    "I What is the best possible outcome, w∗?\n",
    "I What is the expected outcome, that is, if a sequence of actions is drawn (uniformly) at random?\n",
    "I What is the probability of, at random, obtaining a w that is within 90% of the best possible outcome? (That is,\n",
    "w ≥ 0.9w∗.)\n",
    "Now, repeat the above with n = 100.\n",
    "What should we do if the rate of waste production was not known a priori?\n",
    "Is your computer big enough? Is it a quantum computer? May I borrow it?"
   ]
  }
 ],
 "metadata": {
  "language_info": {
   "name": "python"
  },
  "orig_nbformat": 4
 },
 "nbformat": 4,
 "nbformat_minor": 2
}
