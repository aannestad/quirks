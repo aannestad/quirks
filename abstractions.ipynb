{
 "cells": [
  {
   "cell_type": "markdown",
   "metadata": {},
   "source": [
    "## Towards reasoning on knowledge graphs\n",
    "### - Using heterogeneous graph neural networks with Pytorch Geometric (PyG). By top K (multi-hop) meta-path inferences by queries on *heterodata* (dictionary) objects with abstract hierarchical latent graph embeddings. Kids stuff..\n",
    "\n",
    "Before we give into **abstract** types, what are types in python?"
   ]
  },
  {
   "cell_type": "code",
   "execution_count": 75,
   "metadata": {},
   "outputs": [
    {
     "name": "stdout",
     "output_type": "stream",
     "text": [
      "<class 'int'>\n",
      "<class 'list'>\n",
      "<class '__main__.myDict'>\n",
      "<class 'dict'>\n",
      "Is 'd' an instance of 'myDict'? \n",
      " : True\n"
     ]
    }
   ],
   "source": [
    "print(type(5))\n",
    "print(type([1,2,3]))\n",
    "\n",
    "class myDict:\n",
    "    def __init__(self):\n",
    "        self.names = {1:'John', 2:'Wick'}\n",
    "    def __str__(self):\n",
    "        return str(type(self.names))\n",
    "\n",
    "d = myDict()\n",
    "print(type(d))\n",
    "print(d)\n",
    "\n",
    "print(f\"Is 'd' an instance of 'myDict'? \\n : {isinstance(d, myDict)}\")"
   ]
  },
  {
   "cell_type": "markdown",
   "metadata": {},
   "source": [
    "Use type() with three arguments: type(name, bases, dict) dynamically initialize classes or existing classes with attributes. "
   ]
  },
  {
   "cell_type": "code",
   "execution_count": 27,
   "metadata": {},
   "outputs": [
    {
     "name": "stdout",
     "output_type": "stream",
     "text": [
      "<class '__main__.MyType'>\n",
      "Type A\n",
      "<class 'type'>\n",
      "{'var_a': 'Type A', 'iter': 1, '__module__': '__main__', '__dict__': <attribute '__dict__' of 'MyType' objects>, '__weakref__': <attribute '__weakref__' of 'MyType' objects>, '__doc__': None}\n"
     ]
    }
   ],
   "source": [
    "myType = type('MyType', (object, ), dict(var_a = 'Type A', iter = 1))\n",
    "\n",
    "a = myType\n",
    "\n",
    "print(a)\n",
    "print(a.var_a)\n",
    "print(type(a))\n",
    "print(vars(a))"
   ]
  },
  {
   "cell_type": "markdown",
   "metadata": {},
   "source": [
    "Now, dynamically initialize the \"next iteration\" of 'myType'-class, by *deriving* from another class 'myType_mod'"
   ]
  },
  {
   "cell_type": "code",
   "execution_count": 48,
   "metadata": {},
   "outputs": [
    {
     "name": "stdout",
     "output_type": "stream",
     "text": [
      "<class '__main__.MyType_2'>\n",
      "{'var_base': 'Type Base', 'var_a': 'Type A2', 'iter': 2, '__module__': '__main__', '__doc__': None}\n"
     ]
    }
   ],
   "source": [
    "class myType_base:\n",
    "    var_base = 'Type Base'\n",
    "    iter = 1\n",
    "\n",
    "myType_2 = type('MyType_2', (myType_base, ), dict(var_base = myType_base.var_base, var_a = 'Type A2', iter = 2))\n",
    "\n",
    "print(myType_2)\n",
    "print(vars(myType_2))"
   ]
  },
  {
   "cell_type": "code",
   "execution_count": null,
   "metadata": {},
   "outputs": [],
   "source": []
  }
 ],
 "metadata": {
  "interpreter": {
   "hash": "c314c87e776466ef4f077dc585c9dc3eaee46cc84096b0d5b81aa8c7c1fafbb2"
  },
  "kernelspec": {
   "display_name": "Python 3.9.7 ('ai')",
   "language": "python",
   "name": "python3"
  },
  "language_info": {
   "codemirror_mode": {
    "name": "ipython",
    "version": 3
   },
   "file_extension": ".py",
   "mimetype": "text/x-python",
   "name": "python",
   "nbconvert_exporter": "python",
   "pygments_lexer": "ipython3",
   "version": "3.9.7"
  },
  "orig_nbformat": 4
 },
 "nbformat": 4,
 "nbformat_minor": 2
}
