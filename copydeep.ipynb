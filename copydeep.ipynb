{
 "cells": [
  {
   "cell_type": "markdown",
   "metadata": {},
   "source": [
    "# I hope to not make this mistake when it counts!"
   ]
  },
  {
   "cell_type": "code",
   "execution_count": 1,
   "metadata": {},
   "outputs": [],
   "source": [
    "# This is not a copy!\n",
    "\n",
    "nums = [1,2,3,4,5]\n",
    "\n",
    "new_nums = nums    # this is not a copy, but a reference to the same object in memory\n",
    "\n",
    "new_nums[0] = 9   # therefore this also changes nums\n"
   ]
  },
  {
   "cell_type": "code",
   "execution_count": 2,
   "metadata": {},
   "outputs": [
    {
     "name": "stdout",
     "output_type": "stream",
     "text": [
      "[9, 2, 3, 4, 5]\n"
     ]
    }
   ],
   "source": [
    "print(nums)"
   ]
  },
  {
   "cell_type": "code",
   "execution_count": 3,
   "metadata": {},
   "outputs": [
    {
     "name": "stdout",
     "output_type": "stream",
     "text": [
      "2316987390656\n",
      "2316987390656\n"
     ]
    }
   ],
   "source": [
    "print(id(nums))   # both variables point to the same memory adress\n",
    "print(id(new_nums))"
   ]
  },
  {
   "cell_type": "code",
   "execution_count": 4,
   "metadata": {},
   "outputs": [
    {
     "name": "stdout",
     "output_type": "stream",
     "text": [
      "2316985518656\n",
      "[9, 2, 3, 4, 5]\n"
     ]
    }
   ],
   "source": [
    "# This is a copy (but shallow)\n",
    "# import copy\n",
    "\n",
    "copy_nums = nums.copy()\n",
    "\n",
    "print(id(copy_nums))  # creates a different object in memory\n",
    "\n",
    "copy_nums[0] = 1 \n",
    "print(nums)       # so, the change does not affect nums (since id is different)"
   ]
  },
  {
   "cell_type": "code",
   "execution_count": 5,
   "metadata": {},
   "outputs": [],
   "source": [
    "old = [[1,2,3],[4,5,6]]\n",
    "new = old.copy()       # shallow copies the object, but not elements (they are only references)\n",
    "\n",
    "new[0][1] = 10         # if we change a element"
   ]
  },
  {
   "cell_type": "code",
   "execution_count": 6,
   "metadata": {},
   "outputs": [
    {
     "name": "stdout",
     "output_type": "stream",
     "text": [
      "2316985305152\n",
      "2316985518528\n"
     ]
    }
   ],
   "source": [
    "print(id(old))\n",
    "print(id(new))         # even though the identities are different"
   ]
  },
  {
   "cell_type": "code",
   "execution_count": 7,
   "metadata": {},
   "outputs": [
    {
     "name": "stdout",
     "output_type": "stream",
     "text": [
      "[[1, 10, 3], [4, 5, 6]]\n",
      "[[1, 10, 3], [4, 5, 6]]\n"
     ]
    }
   ],
   "source": [
    "print(old)\n",
    "print(new)           # the change to an element affects both objects old and new"
   ]
  },
  {
   "cell_type": "code",
   "execution_count": 8,
   "metadata": {},
   "outputs": [
    {
     "name": "stdout",
     "output_type": "stream",
     "text": [
      "2316985518400\n",
      "2316985518400\n"
     ]
    }
   ],
   "source": [
    "print(id(old[0]))   # old and new have different id, but identical reference to elements\n",
    "print(id(new[0])) "
   ]
  },
  {
   "cell_type": "code",
   "execution_count": 9,
   "metadata": {},
   "outputs": [],
   "source": [
    "# This is a deep (copy elements) copy!\n",
    "\n",
    "import copy\n",
    "\n",
    "new_deep = copy.deepcopy(old)   # copies both the object AND its elements!\n",
    "\n",
    "new_deep[0][1] = 100"
   ]
  },
  {
   "cell_type": "code",
   "execution_count": 10,
   "metadata": {},
   "outputs": [
    {
     "name": "stdout",
     "output_type": "stream",
     "text": [
      "[[1, 10, 3], [4, 5, 6]]\n",
      "[[1, 100, 3], [4, 5, 6]]\n"
     ]
    }
   ],
   "source": [
    "print(old)\n",
    "print(new_deep)"
   ]
  },
  {
   "cell_type": "code",
   "execution_count": 11,
   "metadata": {},
   "outputs": [
    {
     "name": "stdout",
     "output_type": "stream",
     "text": [
      "2316985518400\n",
      "2316985427328\n"
     ]
    }
   ],
   "source": [
    "print(id(old[0]))   # elements are now also (deep) copied\n",
    "print(id(new_deep[0]))"
   ]
  }
 ],
 "metadata": {
  "interpreter": {
   "hash": "b4cdbc7c3fa968f8f57a8da50a47c3ee9b8594a4de967130c021b1087ec3a6ed"
  },
  "kernelspec": {
   "display_name": "Python 3.8.5 64-bit ('ml': conda)",
   "language": "python",
   "name": "python3"
  },
  "language_info": {
   "codemirror_mode": {
    "name": "ipython",
    "version": 3
   },
   "file_extension": ".py",
   "mimetype": "text/x-python",
   "name": "python",
   "nbconvert_exporter": "python",
   "pygments_lexer": "ipython3",
   "version": "3.8.5"
  },
  "orig_nbformat": 4
 },
 "nbformat": 4,
 "nbformat_minor": 2
}
