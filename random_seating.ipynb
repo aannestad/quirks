{
 "cells": [
  {
   "cell_type": "markdown",
   "metadata": {},
   "source": [
    "# A <strong>hypergeometric</strong> question\n",
    "\n",
    "In my small department at UiB, consisting of 20 people, we are actually two named *Hans Martin*. After several confusing situations, Halvor said agitated: \"What are the odds that there are two in this room with that name?\"\n",
    "\n",
    "The department's logician, Wim, quickly sketched out a solution from first principles, arriving at something resembling the hypergeometric distribution. Despite his effort, no one in the quite educated group was able to give an answer.\n",
    "\n",
    "(According to https://www.ssb.no/befolkning/navn/statistikk/navn there are 700 with that name, assume a male population of 2.5million)"
   ]
  },
  {
   "cell_type": "markdown",
   "metadata": {},
   "source": [
    "### Solution (part 1) - First thought: let's just simulate it"
   ]
  },
  {
   "cell_type": "code",
   "execution_count": 30,
   "metadata": {},
   "outputs": [
    {
     "name": "stdout",
     "output_type": "stream",
     "text": [
      "Number of 2 occurrences: 143\n",
      "The chance is about 1/69930\n"
     ]
    }
   ],
   "source": [
    "import math\n",
    "import random\n",
    "from collections import Counter\n",
    "\n",
    "pop = [0]*2500000  # assume a population of 2.5million\n",
    "pop[:700] = [1]*700 # By SSB, about 700 with this name\n",
    "random.shuffle(pop)\n",
    "\n",
    "num_specials = []\n",
    "\n",
    "# run 10 million experiments\n",
    "for i in range(10000000): \n",
    "    \n",
    "    num_specials.append(sum(random.choices(pop,k=20))) # pick 20 random\n",
    "\n",
    "prob = Counter(num_specials)[2] / len(num_specials) # probability of (exactly) 2\n",
    "print('Number of 2 occurrences: '+str(Counter(num_specials)[2]))\n",
    "print('The chance is about 1/' + str(round(1/prob)))"
   ]
  },
  {
   "cell_type": "markdown",
   "metadata": {},
   "source": [
    "### Answer $ \\approx \\frac{1}{70\\,000} $"
   ]
  },
  {
   "cell_type": "markdown",
   "metadata": {},
   "source": [
    "Alright, so it happened <strong>143</strong> times out of 10 million simulations. The chance is $ \\frac{1}{69\\,930} \\approx 0.0014$%. That's pretty unlikely!"
   ]
  },
  {
   "cell_type": "markdown",
   "metadata": {},
   "source": [
    "### Solution (part 2) - Verify the simulation using Wim's intuition:\n",
    "\n",
    "Given the question, a valid selection, requiring $|s|=2$ special elements and $|o|=18$ other elements is\n",
    "$\\overbrace{[s_{1}, s_{2}, o_{1},o_{2},... ,o_{18}]}^{n=20} $.\n",
    "\n",
    "We disregard ordering, since we don't care *where* they sit in the office, only that $2$ special elements are in the $20$. This means to not count a selection if *all* the elements in it has been selected before (in a different order), called <strong>combinations without replacement</strong>.\n",
    "\n",
    "A gentle start is to count all 2-combinations of 20. First we count *all* the ways (permutations) of selecting 20. In the office, we have 20 options for picking the first person, for the second $ 20-1 = 19 $, we do this until it is only  $ 20-19 = 1 $ person left. To find all the ways of doing this, we *multiply* the series together, arriving at the <strong>factorial</strong> formula:\n",
    "\n",
    "$n! = n(n-1)(n-2)\\cdot \\cdot \\cdot 2 \\cdot 1 $, in our case $20! = 20 \\cdot 19 \\cdot \\cdot \\cdot 2 \\cdot 1 $\n",
    "\n",
    "Since we count choices by multiplying number of elements, we *divide* to cancel what we don't count. For counting ways of selecting $k$ elements from $n$, we disregard the rest, namely $(n-k)$ elements. To find the $k$ permutations of $n$, we cancel $(n-k)!$ and get the expression $ n!/(n-k)!$\n",
    "\n",
    "However, these are the k-permutations of n. To disregard order, we want the *unique* permutations, namely the combinations. Requiring that the $k$ we pick are unique, is again done by reducing (dividing) by the $k!$ ways of selecting $k$ elements:\n",
    "\n",
    "### $\\frac{n!/(n-k)!}{k!} = \\binom{n}{k} = \\frac{n!}{k!(n-k)!}$\n",
    "\n",
    "This is called the <strong>binomial coefficient</strong>, the number of k-combinations of $n$ sampled without repetition.\n",
    "\n",
    "Now, let's implement it in code:"
   ]
  },
  {
   "cell_type": "code",
   "execution_count": 19,
   "metadata": {},
   "outputs": [
    {
     "data": {
      "text/plain": [
       "190"
      ]
     },
     "execution_count": 19,
     "metadata": {},
     "output_type": "execute_result"
    }
   ],
   "source": [
    "def bnf(n,k): # binomial coefficient\n",
    "    return int(math.factorial(n) / (math.factorial(k) * math.factorial(n-k)))\n",
    "bnf(20,2) # try it"
   ]
  },
  {
   "cell_type": "markdown",
   "metadata": {},
   "source": [
    "Finally, we can count the number of 2-combinations of 20 by:\n",
    "$\\binom{20}{2} = \\frac{20!}{(20-2)!2!} = \\frac{20!}{18!2!} = 190 $"
   ]
  },
  {
   "cell_type": "markdown",
   "metadata": {},
   "source": [
    "Now that we know how to count selections, the rest is easy! Assume a male population of $N = 2\\,500\\,000 $ and special elements $ K = 700 $ (www.ssb.no/navn)\n",
    "\n",
    "We want the probability of getting $k=2$ special elements if we draw $n=20$ from population $N$, where $ K $ are special elements $ k $. As always:\n",
    "\n",
    "### $ \\text{probability} = \\frac{\\text{valid selections}}{\\text{all selections}} $\n",
    "\n",
    "Let the subsets of $N$ be $[N]$ = {1,...,N}, and count how many of these subsets of size $K$ that have a valid selection, namely draw $n = 20$, with $k=2$ being special: $ {n \\choose k} {N - n\\choose K - k} $.\n",
    "\n",
    "Since we draw at random from $N$, we can take the ratio of the number of valid selections and all possible selections of size $K$ of $N$. By now we know this is $N \\choose K $, arriving at our final formula:\n",
    "\n",
    "### $ P(k) = \\frac{{n \\choose k} {N - n\\choose K - k}}{{N \\choose K}} $\n",
    "\n",
    "Behold, the <strong>hypergeometric formula</strong>!\n"
   ]
  },
  {
   "cell_type": "code",
   "execution_count": 31,
   "metadata": {},
   "outputs": [
    {
     "name": "stdout",
     "output_type": "stream",
     "text": [
      "The chance by using binomial coefficients: 1/67567\n",
      "The chance by using built-in hypergeom: 1/67567\n"
     ]
    }
   ],
   "source": [
    "prob=(math.comb(20,2)*math.comb(2500000-20, 700-2))/math.comb(2500000,700)\n",
    "print('The chance by using binomial coefficients: 1/'+str(round(1/prob)))\n",
    "\n",
    "from scipy.stats import hypergeom  # The fastest is to use this:\n",
    "prob = hypergeom(2500000, 20, 700).pmf(2)\n",
    "print('The chance by using built-in hypergeom: 1/' + str(round(1/prob)))"
   ]
  },
  {
   "cell_type": "markdown",
   "metadata": {},
   "source": [
    "### So the hypergeometric distribution with our example is:\n",
    "\n",
    "### $ P(k=2) = \\frac{{20 \\choose 2} {2\\,500\\,000 - 20\\choose 700 - 2}}{{2\\,500\\,000 \\choose 700}} = \\frac{1}{67\\,567}$, in line with our simulation!"
   ]
  },
  {
   "cell_type": "markdown",
   "metadata": {},
   "source": [
    "### A final comment: since <strong>more</strong> than 2 would also be confusing in the office, the probability is actually the cumulative:"
   ]
  },
  {
   "cell_type": "code",
   "execution_count": 32,
   "metadata": {},
   "outputs": [
    {
     "name": "stdout",
     "output_type": "stream",
     "text": [
      "The chance of 2 or more is 1/67424\n"
     ]
    }
   ],
   "source": [
    "prob1 = sum(hypergeom(2500000, 20, 700).pmf(range(2,20)))  # 2,3,...,20 (sum of density)\n",
    "prob2 = 1-hypergeom(2500000, 20, 700).cdf(1)  # Or 1 - P(k < 2) = 1 - P(0) + P(1)\n",
    "print('The chance of 2 or more is 1/' + str(round(1/prob2)))"
   ]
  },
  {
   "cell_type": "markdown",
   "metadata": {},
   "source": [
    "### Let's check the number of occurences in our 10 million runs:"
   ]
  },
  {
   "cell_type": "code",
   "execution_count": 33,
   "metadata": {},
   "outputs": [
    {
     "name": "stdout",
     "output_type": "stream",
     "text": [
      "Counter({0: 9943894, 1: 55963, 2: 143})\n"
     ]
    }
   ],
   "source": [
    "print(Counter(num_specials))"
   ]
  },
  {
   "cell_type": "markdown",
   "metadata": {},
   "source": [
    "### 3 or more did not occur in the simulation..."
   ]
  },
  {
   "cell_type": "markdown",
   "metadata": {},
   "source": [
    "# Indeed, very <strong>hypergeometric!</strong>"
   ]
  },
  {
   "cell_type": "markdown",
   "metadata": {},
   "source": [
    "The code can be found at: https://github.com/aannestad/quirks/blob/main/random_seating.ipynb"
   ]
  }
 ],
 "metadata": {
  "interpreter": {
   "hash": "b4cdbc7c3fa968f8f57a8da50a47c3ee9b8594a4de967130c021b1087ec3a6ed"
  },
  "kernelspec": {
   "display_name": "Python 3.8.5 64-bit ('ml': conda)",
   "language": "python",
   "name": "python3"
  },
  "language_info": {
   "codemirror_mode": {
    "name": "ipython",
    "version": 3
   },
   "file_extension": ".py",
   "mimetype": "text/x-python",
   "name": "python",
   "nbconvert_exporter": "python",
   "pygments_lexer": "ipython3",
   "version": "3.8.5"
  },
  "orig_nbformat": 4
 },
 "nbformat": 4,
 "nbformat_minor": 2
}
