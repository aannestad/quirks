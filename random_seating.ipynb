{
 "cells": [
  {
   "cell_type": "markdown",
   "metadata": {},
   "source": [
    "# A <strong>hypergeometric</strong> question\n",
    "### By Hans Martin Aannestad\n",
    "\n",
    "In my small department at UiB, consisting of 20 people, we are two named Hans Martin. After several confusing situations, Halvor said agitated: \"What are the odds that two people in this room are actually called Hans Martin?\"\n",
    "\n",
    "The department's logician, Wim, quickly sketched out a solution from first principles, arriving at something resembling the hypergeometric distribution. Despite his effort, no one in the quite educated group was able to give an answer.\n",
    "\n",
    "(According to https://www.ssb.no/befolkning/navn/statistikk/navn, there are 700)"
   ]
  },
  {
   "cell_type": "markdown",
   "metadata": {},
   "source": [
    "### A machine learner's first thought: lets just simulate it:"
   ]
  },
  {
   "cell_type": "code",
   "execution_count": 119,
   "metadata": {},
   "outputs": [
    {
     "name": "stdout",
     "output_type": "stream",
     "text": [
      "Number of 2 occurrences: 148\n",
      "The chance is about 1/67568\n"
     ]
    }
   ],
   "source": [
    "import math\n",
    "import random\n",
    "from collections import Counter\n",
    "\n",
    "pop = [0]*2500000  # assume a population of 2.5 million candidates\n",
    "pop[:10] = [1]*700 # By Statistisk Sentralbyrå (SSB), about 700 with this name\n",
    "random.shuffle(pop) \n",
    "\n",
    "num_specials = []\n",
    "\n",
    "for i in range(10000000): # run 10 million experiments\n",
    "    \n",
    "    num_specials.append(sum(random.choices(pop,k=20))) # count number of occurrences in the office of 20\n",
    "\n",
    "prob = Counter(num_specials)[2] / len(num_specials) # probability of (exactly) 2 occurrences\n",
    "print('Number of 2 occurrences: '+str(Counter(num_specials)[2]))\n",
    "print('The chance is about 1/' + str(round(1/prob)))"
   ]
  },
  {
   "cell_type": "markdown",
   "metadata": {},
   "source": [
    "### Alright, so it happened <strong>148</strong> times out of 10 million simulations. The chance is $ \\frac{1}{67568} \\approx 0.0015$%. That's pretty unlikely! Lets verify the simulation with Wim's fancy mathematics:"
   ]
  },
  {
   "cell_type": "markdown",
   "metadata": {},
   "source": [
    "### Lets first implement our own binomial coefficent $ \\binom{n}{k} = \\frac{n!}{k!(n-k)!},$ in order to use it in $ P(k) = \\frac{{n \\choose k} {N - n\\choose K - k}}{{N \\choose K}} $ to get the exact probability.\n"
   ]
  },
  {
   "cell_type": "code",
   "execution_count": 121,
   "metadata": {},
   "outputs": [
    {
     "name": "stdout",
     "output_type": "stream",
     "text": [
      "The chance is exactly 1/67567\n"
     ]
    }
   ],
   "source": [
    "def bnf(n,k): # binomial coefficient\n",
    "    return math.factorial(n) / (math.factorial(k) * math.factorial(n-k))\n",
    "\n",
    "# prob = (bnf(20,2) * bnf(2500000-20,700-2)) / bnf(2500000,700)  # Works, but slow\n",
    "\n",
    "from scipy.stats import hypergeom  # Let's use something faster\n",
    "\n",
    "prob = hypergeom(2500000, 20, 700).pmf(2)\n",
    "print('The chance is exactly 1/' + str(round(1/prob)))"
   ]
  },
  {
   "cell_type": "markdown",
   "metadata": {},
   "source": [
    "### So the hypergeometric distribution with our example is:\n",
    "\n",
    "### $ P(k=2) = \\frac{{20 \\choose 2} {2,500,000 - 20\\choose 700 - 2}}{{2,500,000 \\choose 700}} = \\frac{1}{67567}$, in line with our simulation!"
   ]
  },
  {
   "cell_type": "markdown",
   "metadata": {},
   "source": [
    "### A final comment: since <strong>more</strong> than 2 would also be confusing in the office, the probability is actually the cumulative:"
   ]
  },
  {
   "cell_type": "code",
   "execution_count": 120,
   "metadata": {},
   "outputs": [
    {
     "name": "stdout",
     "output_type": "stream",
     "text": [
      "The chance of 2 or more is 1/67424\n"
     ]
    }
   ],
   "source": [
    "prob1 = sum(hypergeom(2500000, 20, 700).pmf(range(2,20)))  # 2,3,...,20 (sum of the prob. density function)\n",
    "prob2 = 1-hypergeom(2500000, 20, 700).cdf(1)  # Alternatively: 1 - P(k < 2) = 1 - P(0) + P(1), (by cumulative dist. function)\n",
    "print('The chance of 2 or more is 1/' + str(round(1/prob2)))"
   ]
  },
  {
   "cell_type": "markdown",
   "metadata": {},
   "source": [
    "### Let's check the number of occurences in our 10 million runs:"
   ]
  },
  {
   "cell_type": "code",
   "execution_count": 124,
   "metadata": {},
   "outputs": [
    {
     "name": "stdout",
     "output_type": "stream",
     "text": [
      "Counter({0: 9943967, 1: 55885, 2: 148})\n"
     ]
    }
   ],
   "source": [
    "print(Counter(num_specials))"
   ]
  },
  {
   "cell_type": "markdown",
   "metadata": {},
   "source": [
    "### 3 or more did not occur in the simulation..."
   ]
  },
  {
   "cell_type": "markdown",
   "metadata": {},
   "source": [
    "# Indeed, very <strong>hypergeometric!</strong>"
   ]
  },
  {
   "cell_type": "markdown",
   "metadata": {},
   "source": [
    "The code can be found at: https://github.com/aannestad/quirks/blob/main/random_seating.ipynb"
   ]
  }
 ],
 "metadata": {
  "interpreter": {
   "hash": "b4cdbc7c3fa968f8f57a8da50a47c3ee9b8594a4de967130c021b1087ec3a6ed"
  },
  "kernelspec": {
   "display_name": "Python 3.8.5 64-bit ('ml': conda)",
   "language": "python",
   "name": "python3"
  },
  "language_info": {
   "codemirror_mode": {
    "name": "ipython",
    "version": 3
   },
   "file_extension": ".py",
   "mimetype": "text/x-python",
   "name": "python",
   "nbconvert_exporter": "python",
   "pygments_lexer": "ipython3",
   "version": "3.8.5"
  },
  "orig_nbformat": 4
 },
 "nbformat": 4,
 "nbformat_minor": 2
}
