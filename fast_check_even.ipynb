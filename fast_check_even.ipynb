{
 "cells": [
  {
   "cell_type": "markdown",
   "metadata": {},
   "source": [
    "Programming competition notebook: exploring efficient ways of solving a challenge of removing consecutive even numbers in a sequence\n",
    "\n",
    "Thanks, Khuyen Tran (github.com/khuyentran1401) for timing pipelines"
   ]
  },
  {
   "cell_type": "code",
   "execution_count": null,
   "metadata": {},
   "outputs": [],
   "source": [
    "import random\n",
    "import time\n",
    "from timeit import Timer\n",
    "\n",
    "n = 100000\n",
    "cds = [random.randint(0,10) for i in range(0,n)]\n",
    "\n",
    "def evenpop(cards):\n",
    "\n",
    "    n = len(cards)\n",
    "    i = 0\n",
    "\n",
    "    while i < n-1:\n",
    "        if (cards[i]+cards[i+1]) % 2 == 0:\n",
    "            cards.pop(i)\n",
    "            cards.pop(i)\n",
    "            n -= 2\n",
    "            i -= 1\n",
    "        i += 1\n",
    "    \n",
    "    rest = len(cards)\n",
    "\n",
    "    return rest\n",
    "    "
   ]
  },
  {
   "cell_type": "code",
   "execution_count": null,
   "metadata": {},
   "outputs": [],
   "source": [
    "import random\n",
    "\n",
    "def evenpop(cards):\n",
    "\n",
    "    n = len(cards)\n",
    "    i = 0\n",
    "\n",
    "    while i < n-1:\n",
    "        if (cards[i]+cards[i+1]) % 2 == 0:\n",
    "            cards.pop(i)\n",
    "            cards.pop(i)\n",
    "            n -= 2\n",
    "            i -= 1\n",
    "        i += 1\n",
    "    \n",
    "    rest = len(cards)\n",
    "\n",
    "    return rest\n",
    "\n",
    "n = 100000\n",
    "cds = [random.randint(0,10) for i in range(0,n)]\n",
    "evenpop(cds)"
   ]
  },
  {
   "cell_type": "code",
   "execution_count": null,
   "metadata": {},
   "outputs": [],
   "source": [
    "# Run worst case: all even numbers: should pop the whole list\n",
    "evenpop([1 for j in range(0,100000)]) # runtime: ~1.9s"
   ]
  },
  {
   "cell_type": "code",
   "execution_count": null,
   "metadata": {},
   "outputs": [],
   "source": [
    "# Run best case: all consecutive odd numbers: should pop none\n",
    "evenpop(list(range(0,100000))) # runtime: ~0.1s"
   ]
  },
  {
   "cell_type": "code",
   "execution_count": null,
   "metadata": {},
   "outputs": [],
   "source": [
    "import timeit\n",
    "import numpy as np\n",
    "\n",
    "# compute evenpop time\n",
    "def evenpop_time():\n",
    "\tSETUP_CODE = '''\n",
    "from __main__ import evenpop\n",
    "import random\n",
    "n = 100000\n",
    "cds = [random.randint(0,10) for i in range(0,n)]'''\n",
    "\t\n",
    "\tTEST_CODE = '''\n",
    "evenpop(cds)\n",
    "\t'''\n",
    "\t# timeit.repeat statement\n",
    "\ttimes = timeit.repeat(setup = SETUP_CODE,\n",
    "\t\t\t\t\t\tstmt = TEST_CODE,\n",
    "\t\t\t\t\t\trepeat = 10,\n",
    "\t\t\t\t\t    number = 1)\n",
    "\n",
    "\t# printing minimum exec. time\n",
    "\tprint('Evenpop time: {}'.format(np.max(times))) #np.mean(times)\n",
    "\n",
    "if __name__ == \"__main__\":\n",
    "\tevenpop_time()"
   ]
  },
  {
   "cell_type": "markdown",
   "metadata": {},
   "source": [
    "The pop method is too slow: 1 second is the limit in the competition.\n",
    "\n",
    "Below follows a simulated worst and best case comparison of runtime complexity:"
   ]
  },
  {
   "cell_type": "code",
   "execution_count": null,
   "metadata": {},
   "outputs": [],
   "source": [
    "from timeit import Timer\n",
    "\n",
    "# Worst case\n",
    "evenpop_w = Timer(\"evenpop(cds_w)\",\n",
    "                'from __main__ import evenpop, cds_w')\n",
    "\n",
    "# Best case\n",
    "evenpop_b = Timer('evenpop(cds_b)',\n",
    "                'from __main__ import evenpop, cds_b')\n",
    "\n",
    "experiments = 1\n",
    "result = []\n",
    "\n",
    "for i in range(100000,1000000,100000):\n",
    "    \n",
    "    #Define the array\n",
    "    \n",
    "    cds_w = [1 for j in range(0,i)] # worst case: pop all\n",
    "    cds_b = list(range(0,i)) # best case: none to pop\n",
    "    \n",
    "    #Time the average results of 1000 experiments for each method\n",
    "    p_w = evenpop_w.timeit(number=experiments)\n",
    "    p_b = evenpop_b.timeit(number=experiments)\n",
    "    \n",
    "    result.append((i,p_w,p_b))\n",
    "\n",
    "print(result)"
   ]
  },
  {
   "cell_type": "code",
   "execution_count": null,
   "metadata": {},
   "outputs": [],
   "source": [
    "import numpy as np\n",
    "import matplotlib.pyplot as plt\n",
    "\n",
    "matrixDat = np.array( result )\n",
    "plt.plot(matrixDat[:,0], matrixDat[:,1], 'o', color='red',label='pop_worst_case');\n",
    "plt.plot(matrixDat[:,0], matrixDat[:,2], 'o', color='blue',label='pop_best_case');\n",
    "leg = plt.legend(numpoints=1)"
   ]
  },
  {
   "cell_type": "markdown",
   "metadata": {},
   "source": [
    "Something smarter: don't change the list, just count:"
   ]
  },
  {
   "cell_type": "code",
   "execution_count": 109,
   "metadata": {},
   "outputs": [],
   "source": [
    "def evencount(cards):\n",
    "    n = len(cards)\n",
    "    rest = n\n",
    "    i = 0\n",
    "    prev = None\n",
    "\n",
    "    while i < n-1:\n",
    "        if (cards[i]+cards[i+1]) % 2 == 0:\n",
    "            rest -= 2\n",
    "            i += 2\n",
    "            if i < n-1 and prev != None:\n",
    "                if (prev + cards[i]) % 2 == 0:\n",
    "                    rest -= 2\n",
    "                    i += 1\n",
    "        else:\n",
    "            prev = cards[i]\n",
    "            i += 1\n",
    "\n",
    "    return rest"
   ]
  },
  {
   "cell_type": "code",
   "execution_count": 108,
   "metadata": {},
   "outputs": [
    {
     "data": {
      "text/plain": [
       "0"
      ]
     },
     "execution_count": 108,
     "metadata": {},
     "output_type": "execute_result"
    }
   ],
   "source": [
    "# Run worst case: all even numbers: should pop the whole list\n",
    "evencount([1 for j in range(0,100000)]) # runtime: ~1.9s"
   ]
  },
  {
   "cell_type": "code",
   "execution_count": 110,
   "metadata": {},
   "outputs": [
    {
     "name": "stdout",
     "output_type": "stream",
     "text": [
      "Evencount time: 0.08533780000288971\n"
     ]
    }
   ],
   "source": [
    "import timeit\n",
    "import numpy as np\n",
    "\n",
    "# compute evencount time\n",
    "def evencount_time():\n",
    "\tSETUP_CODE = '''\n",
    "from __main__ import evencount\n",
    "import random\n",
    "n = 100000\n",
    "cds = [random.randint(0,10) for i in range(0,n)]'''\n",
    "\t\n",
    "\tTEST_CODE = '''\n",
    "evencount(cds)\n",
    "\t'''\n",
    "\t# timeit.repeat statement\n",
    "\ttimes = timeit.repeat(setup = SETUP_CODE,\n",
    "\t\t\t\t\t\tstmt = TEST_CODE,\n",
    "\t\t\t\t\t\trepeat = 10,\n",
    "\t\t\t\t\t    number = 1)\n",
    "\n",
    "\t# printing minimum exec. time\n",
    "\tprint('Evencount time: {}'.format(np.max(times))) #np.mean(times)\n",
    "\n",
    "if __name__ == \"__main__\":\n",
    "\tevencount_time()"
   ]
  },
  {
   "cell_type": "code",
   "execution_count": 111,
   "metadata": {},
   "outputs": [
    {
     "name": "stdout",
     "output_type": "stream",
     "text": [
      "[(100000, 0.08706869999878109, 0.12070529999618884), (200000, 0.11460229998920113, 0.17051370000990573), (300000, 0.1731551999982912, 0.20628579999902286), (400000, 0.1534998999995878, 0.4209533000102965), (500000, 0.2359540999896126, 0.30765300001075957), (600000, 0.2757666999968933, 0.3162568999978248), (700000, 0.24040460000105668, 0.32798089999414515), (800000, 0.48607139999512583, 0.46802369999932125), (900000, 0.4001282000099309, 0.4317677999933949)]\n"
     ]
    }
   ],
   "source": [
    "from timeit import Timer\n",
    "\n",
    "# Worst case\n",
    "evencount_w = Timer(\"evencount(cds_w)\",\n",
    "                'from __main__ import evencount, cds_w')\n",
    "\n",
    "# Best case\n",
    "evencount_b = Timer('evencount(cds_b)',\n",
    "                'from __main__ import evencount, cds_b')\n",
    "\n",
    "experiments = 1\n",
    "result = []\n",
    "\n",
    "for i in range(100000,1000000,100000):\n",
    "    \n",
    "    #Define the array\n",
    "    \n",
    "    cds_w = [1 for j in range(0,i)] # worst case: pop all\n",
    "    cds_b = list(range(0,i)) # best case: none to pop\n",
    "    \n",
    "    #Time the average results of 1000 experiments for each method\n",
    "    p_w = evencount_w.timeit(number=experiments)\n",
    "    p_b = evencount_b.timeit(number=experiments)\n",
    "    \n",
    "    result.append((i,p_w,p_b))\n",
    "\n",
    "print(result)"
   ]
  },
  {
   "cell_type": "code",
   "execution_count": 112,
   "metadata": {},
   "outputs": [
    {
     "data": {
      "image/png": "[encoded data removed]",
      "text/plain": [
       "<Figure size 432x288 with 1 Axes>"
      ]
     },
     "metadata": {
      "needs_background": "light"
     },
     "output_type": "display_data"
    }
   ],
   "source": [
    "import numpy as np\n",
    "import matplotlib.pyplot as plt\n",
    "\n",
    "matrixDat = np.array( result )\n",
    "plt.plot(matrixDat[:,0], matrixDat[:,1], 'o', color='red',label='count_worst_case');\n",
    "plt.plot(matrixDat[:,0], matrixDat[:,2], 'o', color='blue',label='count_best_case');\n",
    "leg = plt.legend(numpoints=1)"
   ]
  },
  {
   "cell_type": "code",
   "execution_count": 8,
   "metadata": {},
   "outputs": [
    {
     "name": "stdout",
     "output_type": "stream",
     "text": [
      "0\n"
     ]
    }
   ],
   "source": [
    "from collections import deque\n",
    "\n",
    "cards = [2,4,6,8,10,12,14,16,18,20] # [1,3,3,4,2,4,1,3,7,1]\n",
    "n = len(cards)\n",
    "rest = n\n",
    "i = 0\n",
    "rest_stack = deque()\n",
    "\n",
    "while i < n-1:\n",
    "    if (cards[i]+cards[i+1]) % 2 == 0:\n",
    "        rest -= 2\n",
    "        i += 2\n",
    "        if i < n-1 and rest_stack:\n",
    "            prev = rest_stack.pop()\n",
    "            if (prev + cards[i]) % 2 == 0:\n",
    "                rest -= 2\n",
    "                i += 1\n",
    "            else:\n",
    "                rest_stack.append(prev)\n",
    "    else:\n",
    "        rest_stack.append(cards[i])\n",
    "        i += 1\n",
    "\n",
    "print(rest)"
   ]
  },
  {
   "cell_type": "code",
   "execution_count": 5,
   "metadata": {},
   "outputs": [
    {
     "name": "stdout",
     "output_type": "stream",
     "text": [
      "deque([3])\n"
     ]
    }
   ],
   "source": [
    "from collections import deque\n",
    "a = deque()\n",
    "a.append(3)\n",
    "\n",
    "print(a)"
   ]
  }
 ],
 "metadata": {
  "interpreter": {
   "hash": "b4cdbc7c3fa968f8f57a8da50a47c3ee9b8594a4de967130c021b1087ec3a6ed"
  },
  "kernelspec": {
   "display_name": "Python 3.8.5 64-bit ('ml': conda)",
   "language": "python",
   "name": "python3"
  },
  "language_info": {
   "codemirror_mode": {
    "name": "ipython",
    "version": 3
   },
   "file_extension": ".py",
   "mimetype": "text/x-python",
   "name": "python",
   "nbconvert_exporter": "python",
   "pygments_lexer": "ipython3",
   "version": "3.8.5"
  },
  "orig_nbformat": 4
 },
 "nbformat": 4,
 "nbformat_minor": 2
}
