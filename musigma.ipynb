{
 "cells": [
  {
   "cell_type": "markdown",
   "metadata": {},
   "source": [
    "# Philip's riddle:\n",
    "\n",
    "If a company has an expected return (mean) equal to its risk (standard deviation), what is the probability it will be profitable?"
   ]
  },
  {
   "cell_type": "code",
   "execution_count": 38,
   "metadata": {},
   "outputs": [
    {
     "data": {
      "image/png": "[encoded data removed]",
      "text/plain": [
       "<Figure size 432x288 with 1 Axes>"
      ]
     },
     "metadata": {
      "needs_background": "light"
     },
     "output_type": "display_data"
    }
   ],
   "source": [
    "\n",
    "# import the required libraries \n",
    "import random \n",
    "import matplotlib.pyplot as plt \n",
    "    \n",
    "# store the random numbers in a list \n",
    "nums = [] \n",
    "mu = 100\n",
    "sigma = 50\n",
    "    \n",
    "for i in range(10000): \n",
    "    temp = random.normalvariate(mu, sigma) \n",
    "    nums.append(temp)\n",
    "        \n",
    "# plotting a graph \n",
    "plt.hist(nums, bins = 200) \n",
    "plt.show()"
   ]
  },
  {
   "cell_type": "code",
   "execution_count": 4,
   "metadata": {},
   "outputs": [
    {
     "name": "stdout",
     "output_type": "stream",
     "text": [
      "Help on package scipy:\n",
      "\n",
      "NAME\n",
      "    scipy\n",
      "\n",
      "DESCRIPTION\n",
      "    SciPy: A scientific computing package for Python\n",
      "    ================================================\n",
      "    \n",
      "    Documentation is available in the docstrings and\n",
      "    online at https://docs.scipy.org.\n",
      "    \n",
      "    Contents\n",
      "    --------\n",
      "    SciPy imports all the functions from the NumPy namespace, and in\n",
      "    addition provides:\n",
      "    \n",
      "    Subpackages\n",
      "    -----------\n",
      "    Using any of these subpackages requires an explicit import. For example,\n",
      "    ``import scipy.cluster``.\n",
      "    \n",
      "    ::\n",
      "    \n",
      "     cluster                      --- Vector Quantization / Kmeans\n",
      "     fft                          --- Discrete Fourier transforms\n",
      "     fftpack                      --- Legacy discrete Fourier transforms\n",
      "     integrate                    --- Integration routines\n",
      "     interpolate                  --- Interpolation Tools\n",
      "     io                           --- Data input and output\n",
      "     linalg                       --- Linear algebra routines\n",
      "     linalg.blas                  --- Wrappers to BLAS library\n",
      "     linalg.lapack                --- Wrappers to LAPACK library\n",
      "     misc                         --- Various utilities that don't have\n",
      "                                      another home.\n",
      "     ndimage                      --- N-D image package\n",
      "     odr                          --- Orthogonal Distance Regression\n",
      "     optimize                     --- Optimization Tools\n",
      "     signal                       --- Signal Processing Tools\n",
      "     signal.windows               --- Window functions\n",
      "     sparse                       --- Sparse Matrices\n",
      "     sparse.linalg                --- Sparse Linear Algebra\n",
      "     sparse.linalg.dsolve         --- Linear Solvers\n",
      "     sparse.linalg.dsolve.umfpack --- :Interface to the UMFPACK library:\n",
      "                                      Conjugate Gradient Method (LOBPCG)\n",
      "     sparse.linalg.eigen          --- Sparse Eigenvalue Solvers\n",
      "     sparse.linalg.eigen.lobpcg   --- Locally Optimal Block Preconditioned\n",
      "                                      Conjugate Gradient Method (LOBPCG)\n",
      "     spatial                      --- Spatial data structures and algorithms\n",
      "     special                      --- Special functions\n",
      "     stats                        --- Statistical Functions\n",
      "    \n",
      "    Utility tools\n",
      "    -------------\n",
      "    ::\n",
      "    \n",
      "     test              --- Run scipy unittests\n",
      "     show_config       --- Show scipy build configuration\n",
      "     show_numpy_config --- Show numpy build configuration\n",
      "     __version__       --- SciPy version string\n",
      "     __numpy_version__ --- Numpy version string\n",
      "\n",
      "PACKAGE CONTENTS\n",
      "    __config__\n",
      "    _build_utils (package)\n",
      "    _distributor_init\n",
      "    _lib (package)\n",
      "    cluster (package)\n",
      "    conftest\n",
      "    constants (package)\n",
      "    fft (package)\n",
      "    fftpack (package)\n",
      "    integrate (package)\n",
      "    interpolate (package)\n",
      "    io (package)\n",
      "    linalg (package)\n",
      "    misc (package)\n",
      "    ndimage (package)\n",
      "    odr (package)\n",
      "    optimize (package)\n",
      "    setup\n",
      "    signal (package)\n",
      "    sparse (package)\n",
      "    spatial (package)\n",
      "    special (package)\n",
      "    stats (package)\n",
      "    version\n",
      "\n",
      "DATA\n",
      "    test = <scipy._lib._testutils.PytestTester object>\n",
      "\n",
      "VERSION\n",
      "    1.7.1\n",
      "\n",
      "FILE\n",
      "    c:\\users\\hmaan\\anaconda3\\envs\\ml\\lib\\site-packages\\scipy\\__init__.py\n",
      "\n",
      "\n"
     ]
    }
   ],
   "source": [
    "import scipy\n",
    "help(scipy)"
   ]
  },
  {
   "cell_type": "code",
   "execution_count": 16,
   "metadata": {},
   "outputs": [],
   "source": [
    "import numpy as np\n",
    "mu, sigma = 0, 1 # mean and standard deviation\n",
    "s = np.random.normal(mu, sigma, 10000)"
   ]
  },
  {
   "cell_type": "code",
   "execution_count": 19,
   "metadata": {},
   "outputs": [
    {
     "data": {
      "image/png": "[encoded data removed]",
      "text/plain": [
       "<Figure size 432x288 with 1 Axes>"
      ]
     },
     "metadata": {
      "needs_background": "light"
     },
     "output_type": "display_data"
    }
   ],
   "source": [
    "import matplotlib.pyplot as plt\n",
    "count, bins, ignored = plt.hist(s, 30, density=True)\n",
    "plt.plot(bins, 1/(sigma * np.sqrt(2 * np.pi)) *\n",
    "               np.exp( - (bins - mu)**2 / (2 * sigma**2) ),\n",
    "         linewidth=2, color='r')\n",
    "plt.show()"
   ]
  },
  {
   "cell_type": "code",
   "execution_count": 23,
   "metadata": {},
   "outputs": [
    {
     "ename": "NameError",
     "evalue": "name 'x' is not defined",
     "output_type": "error",
     "traceback": [
      "\u001b[1;31m---------------------------------------------------------------------------\u001b[0m",
      "\u001b[1;31mNameError\u001b[0m                                 Traceback (most recent call last)",
      "\u001b[1;32m<ipython-input-23-402cc0d74843>\u001b[0m in \u001b[0;36m<module>\u001b[1;34m\u001b[0m\n\u001b[1;32m----> 1\u001b[1;33m \u001b[0mplt\u001b[0m\u001b[1;33m.\u001b[0m\u001b[0mplot\u001b[0m\u001b[1;33m(\u001b[0m\u001b[0mnp\u001b[0m\u001b[1;33m.\u001b[0m\u001b[0mexp\u001b[0m\u001b[1;33m(\u001b[0m\u001b[1;33m-\u001b[0m\u001b[0mx\u001b[0m\u001b[1;33m^\u001b[0m\u001b[1;36m2\u001b[0m\u001b[1;33m)\u001b[0m\u001b[1;33m)\u001b[0m\u001b[1;33m\u001b[0m\u001b[1;33m\u001b[0m\u001b[0m\n\u001b[0m",
      "\u001b[1;31mNameError\u001b[0m: name 'x' is not defined"
     ]
    }
   ],
   "source": [
    "plt.plot(np.exp(-x^2))"
   ]
  },
  {
   "cell_type": "code",
   "execution_count": 37,
   "metadata": {},
   "outputs": [
    {
     "data": {
      "text/plain": [
       "[<matplotlib.lines.Line2D at 0x172e10bde80>]"
      ]
     },
     "execution_count": 37,
     "metadata": {},
     "output_type": "execute_result"
    },
    {
     "data": {
      "image/png": "[encoded data removed]",
      "text/plain": [
       "<Figure size 432x288 with 1 Axes>"
      ]
     },
     "metadata": {
      "needs_background": "light"
     },
     "output_type": "display_data"
    }
   ],
   "source": [
    "x = np.linspace(0,5,100)\n",
    "plt.plot(x,np.exp(x))\n"
   ]
  },
  {
   "cell_type": "code",
   "execution_count": 36,
   "metadata": {},
   "outputs": [
    {
     "data": {
      "text/plain": [
       "array([0.        , 0.05050505, 0.1010101 , 0.15151515, 0.2020202 ,\n",
       "       0.25252525, 0.3030303 , 0.35353535, 0.4040404 , 0.45454545,\n",
       "       0.50505051, 0.55555556, 0.60606061, 0.65656566, 0.70707071,\n",
       "       0.75757576, 0.80808081, 0.85858586, 0.90909091, 0.95959596,\n",
       "       1.01010101, 1.06060606, 1.11111111, 1.16161616, 1.21212121,\n",
       "       1.26262626, 1.31313131, 1.36363636, 1.41414141, 1.46464646,\n",
       "       1.51515152, 1.56565657, 1.61616162, 1.66666667, 1.71717172,\n",
       "       1.76767677, 1.81818182, 1.86868687, 1.91919192, 1.96969697,\n",
       "       2.02020202, 2.07070707, 2.12121212, 2.17171717, 2.22222222,\n",
       "       2.27272727, 2.32323232, 2.37373737, 2.42424242, 2.47474747,\n",
       "       2.52525253, 2.57575758, 2.62626263, 2.67676768, 2.72727273,\n",
       "       2.77777778, 2.82828283, 2.87878788, 2.92929293, 2.97979798,\n",
       "       3.03030303, 3.08080808, 3.13131313, 3.18181818, 3.23232323,\n",
       "       3.28282828, 3.33333333, 3.38383838, 3.43434343, 3.48484848,\n",
       "       3.53535354, 3.58585859, 3.63636364, 3.68686869, 3.73737374,\n",
       "       3.78787879, 3.83838384, 3.88888889, 3.93939394, 3.98989899,\n",
       "       4.04040404, 4.09090909, 4.14141414, 4.19191919, 4.24242424,\n",
       "       4.29292929, 4.34343434, 4.39393939, 4.44444444, 4.49494949,\n",
       "       4.54545455, 4.5959596 , 4.64646465, 4.6969697 , 4.74747475,\n",
       "       4.7979798 , 4.84848485, 4.8989899 , 4.94949495, 5.        ])"
      ]
     },
     "execution_count": 36,
     "metadata": {},
     "output_type": "execute_result"
    }
   ],
   "source": [
    "x"
   ]
  },
  {
   "cell_type": "markdown",
   "metadata": {},
   "source": [
    "Indep. distr.\n",
    "\n",
    "Binomial distr.\n",
    "\n",
    "\n",
    "X1, n1 = 3, p=0.8\n",
    "X2, n2 = 21, p=0.7\n",
    "\n",
    "Which portfolio is most likely to give a positive return?\n",
    "\n",
    "E[X1] > E[X2]"
   ]
  },
  {
   "cell_type": "code",
   "execution_count": null,
   "metadata": {},
   "outputs": [],
   "source": []
  }
 ],
 "metadata": {
  "interpreter": {
   "hash": "b4cdbc7c3fa968f8f57a8da50a47c3ee9b8594a4de967130c021b1087ec3a6ed"
  },
  "kernelspec": {
   "display_name": "Python 3.8.5 64-bit ('ml': conda)",
   "language": "python",
   "name": "python3"
  },
  "language_info": {
   "codemirror_mode": {
    "name": "ipython",
    "version": 3
   },
   "file_extension": ".py",
   "mimetype": "text/x-python",
   "name": "python",
   "nbconvert_exporter": "python",
   "pygments_lexer": "ipython3",
   "version": "3.8.5"
  },
  "orig_nbformat": 4
 },
 "nbformat": 4,
 "nbformat_minor": 2
}
